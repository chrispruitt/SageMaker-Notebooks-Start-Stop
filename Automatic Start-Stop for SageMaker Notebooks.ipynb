{
 "cells": [
  {
   "cell_type": "markdown",
   "metadata": {},
   "source": [
    "# Lambda Code to Stop/Start a notebook instance"
   ]
  },
  {
   "cell_type": "markdown",
   "metadata": {},
   "source": [
    "We will build the following architecture\n",
    "![Start Stop SageMaker Instances](StartStopSM.png)"
   ]
  },
  {
   "cell_type": "code",
   "execution_count": 1,
   "metadata": {},
   "outputs": [],
   "source": [
    "import boto3\n",
    "import logging\n",
    "\n",
    "logger = logging.getLogger()\n",
    "logger.setLevel(logging.INFO)\n"
   ]
  },
  {
   "cell_type": "markdown",
   "metadata": {},
   "source": [
    "Let's check the SageMaker API and see how can we find the instances that are 'In Service' in the account"
   ]
  },
  {
   "cell_type": "code",
   "execution_count": 10,
   "metadata": {},
   "outputs": [
    {
     "data": {
      "text/plain": [
       "{'NotebookInstances': [{'NotebookInstanceName': 'fastai-with-efs',\n",
       "   'NotebookInstanceArn': 'arn:aws:sagemaker:eu-west-1:217431963147:notebook-instance/fastai-with-efs',\n",
       "   'NotebookInstanceStatus': 'InService',\n",
       "   'Url': 'fastai-with-efs.notebook.eu-west-1.sagemaker.aws',\n",
       "   'InstanceType': 'ml.m4.2xlarge',\n",
       "   'CreationTime': datetime.datetime(2018, 8, 13, 13, 13, 13, 863000, tzinfo=tzlocal()),\n",
       "   'LastModifiedTime': datetime.datetime(2018, 8, 24, 10, 46, 41, 550000, tzinfo=tzlocal()),\n",
       "   'NotebookInstanceLifecycleConfigName': 'MountEFS'}],\n",
       " 'ResponseMetadata': {'RequestId': '3f8ecced-cad7-40ef-8659-42449daf6de4',\n",
       "  'HTTPStatusCode': 200,\n",
       "  'HTTPHeaders': {'x-amzn-requestid': '3f8ecced-cad7-40ef-8659-42449daf6de4',\n",
       "   'content-type': 'application/x-amz-json-1.1',\n",
       "   'content-length': '406',\n",
       "   'date': 'Fri, 24 Aug 2018 15:31:18 GMT'},\n",
       "  'RetryAttempts': 0}}"
      ]
     },
     "execution_count": 10,
     "metadata": {},
     "output_type": "execute_result"
    }
   ],
   "source": [
    "client = boto3.client('sagemaker')\n",
    "    \n",
    "candidates = client.list_notebook_instances(StatusEquals='InService')\n",
    "candidates"
   ]
  },
  {
   "cell_type": "markdown",
   "metadata": {},
   "source": [
    "We want to find the name of the instance. It is used to send the stop and start commands"
   ]
  },
  {
   "cell_type": "code",
   "execution_count": 11,
   "metadata": {},
   "outputs": [
    {
     "data": {
      "text/plain": [
       "'fastai-with-efs'"
      ]
     },
     "execution_count": 11,
     "metadata": {},
     "output_type": "execute_result"
    }
   ],
   "source": [
    "for candidate in candidates['NotebookInstances']:\n",
    "    candidateName = candidate['NotebookInstanceName']\n",
    "\n",
    "candidateName"
   ]
  },
  {
   "cell_type": "markdown",
   "metadata": {},
   "source": [
    "To discover the tags of the notebook instances we need to know the ARN of each"
   ]
  },
  {
   "cell_type": "code",
   "execution_count": 12,
   "metadata": {},
   "outputs": [
    {
     "data": {
      "text/plain": [
       "[{'Key': 'Demo', 'Value': 'fastai'}, {'Key': 'InDuty', 'Value': 'Yes'}]"
      ]
     },
     "execution_count": 12,
     "metadata": {},
     "output_type": "execute_result"
    }
   ],
   "source": [
    "instanceArn = candidate['NotebookInstanceArn']\n",
    "instanceTags = client.list_tags(ResourceArn=instanceArn)\n",
    "instanceTags['Tags']"
   ]
  },
  {
   "cell_type": "markdown",
   "metadata": {},
   "source": [
    "We will look for a tag with key of 'InDuty' and a value of 'Yes'"
   ]
  },
  {
   "cell_type": "code",
   "execution_count": 33,
   "metadata": {},
   "outputs": [],
   "source": [
    "for tag in instanceTags['Tags']:\n",
    "    if (tag['Key'] == 'InDuty' and tag['Value'] =='Yes'):\n",
    "        print(\"Found it\")"
   ]
  },
  {
   "cell_type": "markdown",
   "metadata": {},
   "source": [
    "Now we can connect it all together"
   ]
  },
  {
   "cell_type": "code",
   "execution_count": 35,
   "metadata": {},
   "outputs": [],
   "source": [
    "client = boto3.client('sagemaker')\n",
    "    \n",
    "candidates = client.list_notebook_instances()\n",
    "\n",
    "for candidate in candidates['NotebookInstances']:\n",
    "    candidateName = candidate['NotebookInstanceName']\n",
    "    logger.info('instance {0} is in Service'.format(candidateName))\n",
    "    instanceArn = candidate['NotebookInstanceArn']\n",
    "    instanceTags = client.list_tags(ResourceArn=instanceArn)\n",
    "    for tag in instanceTags['Tags']:\n",
    "        if (tag['Key'] == 'InDuty' and tag['Value'] =='Yes'):\n",
    "            logger.info('instance {0} is in duty'.format(candidateName))\n",
    "    #        response = client.stop_notebook_instance(NotebookInstanceName=candidateName)\n",
    "            logger.info('instance {0} was stopped'.format(candidateName))\n",
    "        else:\n",
    "            logger.info('Not in duty'.format(candidateName))\n"
   ]
  },
  {
   "cell_type": "markdown",
   "metadata": {},
   "source": [
    "# Creating a lambda function"
   ]
  },
  {
   "cell_type": "markdown",
   "metadata": {},
   "source": [
    "Using writefile magic command, we will generate the python file to be uploaded to AWS Lambda. Also if you want to append to file you must use -a parameter."
   ]
  },
  {
   "cell_type": "code",
   "execution_count": 2,
   "metadata": {},
   "outputs": [
    {
     "name": "stdout",
     "output_type": "stream",
     "text": [
      "Writing lambda_function.py\n"
     ]
    }
   ],
   "source": [
    "%%writefile lambda_function.py\n",
    "import boto3\n",
    "import logging\n",
    "\n",
    "logger = logging.getLogger()\n",
    "logger.setLevel(logging.INFO)\n",
    "\n",
    "client = boto3.client('sagemaker')\n",
    "\n",
    "def lambda_handler(event, context):\n",
    "    \n",
    "    candidates = client.list_notebook_instances()\n",
    "    \n",
    "    for candidate in candidates['NotebookInstances']:\n",
    "        candidateName = candidate['NotebookInstanceName']\n",
    "        logger.info('instance {0} is in Service'.format(candidateName))\n",
    "        instanceArn = candidate['NotebookInstanceArn']\n",
    "        instanceTags = client.list_tags(ResourceArn=instanceArn)\n",
    "        for tag in instanceTags['Tags']:\n",
    "            if (tag['Key'] == 'InDuty' and tag['Value'] =='Yes'):\n",
    "                logger.info('instance {0} is in duty'.format(candidateName))\n",
    "                if (event['event'] == \"On\"):\n",
    "                    response = client.start_notebook_instance(NotebookInstanceName=candidateName)\n",
    "                    logger.info('instance {0} was started'.format(candidateName))\n",
    "                elif (event['event'] == \"Off\"):\n",
    "                    response = client.stop_notebook_instance(NotebookInstanceName=candidateName)\n",
    "                    logger.info('instance {0} was stopped'.format(candidateName))\n",
    "            else:\n",
    "                logger.info('Not in duty'.format(candidateName))\n",
    "\n",
    "    return \"Done\"\n"
   ]
  },
  {
   "cell_type": "markdown",
   "metadata": {},
   "source": [
    "Adding the lambda function into a zip file (AWS Lambda requires a zip file)"
   ]
  },
  {
   "cell_type": "code",
   "execution_count": 4,
   "metadata": {},
   "outputs": [
    {
     "name": "stdout",
     "output_type": "stream",
     "text": [
      "  adding: lambda_function.py (deflated 68%)\r\n"
     ]
    }
   ],
   "source": [
    "!zip lambda.zip lambda_function.py"
   ]
  },
  {
   "cell_type": "markdown",
   "metadata": {},
   "source": [
    "We can create the bucket and copy the file to it using the awscli or the python SDK. I'll use the aws cli in this example."
   ]
  },
  {
   "cell_type": "code",
   "execution_count": 6,
   "metadata": {},
   "outputs": [
    {
     "name": "stdout",
     "output_type": "stream",
     "text": [
      "make_bucket: terraform-serverless-repository\r\n"
     ]
    }
   ],
   "source": [
    "!aws s3 mb s3://terraform-serverless-repository --region=eu-west-1"
   ]
  },
  {
   "cell_type": "markdown",
   "metadata": {},
   "source": [
    "Uploading the zip file to the bucket"
   ]
  },
  {
   "cell_type": "code",
   "execution_count": 8,
   "metadata": {},
   "outputs": [
    {
     "name": "stdout",
     "output_type": "stream",
     "text": [
      "Completed 593 Bytes/593 Bytes (9.2 KiB/s) with 1 file(s) remaining\r",
      "upload: ./lambda.zip to s3://terraform-serverless-repository/v1.0.0/lambda.zip\r\n"
     ]
    }
   ],
   "source": [
    "!aws s3 cp lambda.zip s3://terraform-serverless-repository/v1.0.0/"
   ]
  },
  {
   "cell_type": "markdown",
   "metadata": {},
   "source": [
    "With the source code artifact built and uploaded to S3, we can now write our Terraform configuration to deploy it. In a new directory, create a file named lambda.tf containing the following configuration:"
   ]
  },
  {
   "cell_type": "code",
   "execution_count": 63,
   "metadata": {},
   "outputs": [
    {
     "name": "stdout",
     "output_type": "stream",
     "text": [
      "Overwriting lambda.tf\n"
     ]
    }
   ],
   "source": [
    "%%writefile lambda.tf\n",
    "provider \"aws\" {\n",
    "  region = \"eu-west-1\"\n",
    "}\n",
    "\n",
    "resource \"aws_lambda_function\" \"start_stop_sm\" {\n",
    "  function_name = \"StopStartSageMakerNotebookInstances\"\n",
    "\n",
    "  # The bucket name as created earlier with \"aws s3api create-bucket\"\n",
    "  s3_bucket = \"terraform-serverless-repository\"\n",
    "  s3_key    = \"v1.0.0/lambda.zip\"\n",
    "\n",
    "  # \"main\" is the filename within the zip file (main.js) and \"handler\"\n",
    "  # is the name of the property under which the handler function was\n",
    "  # exported in that file.\n",
    "  handler = \"lambda_function.lambda_handler\"\n",
    "  runtime = \"python3.6\"\n",
    "\n",
    "  role = \"${aws_iam_role.lambda_exec.arn}\"\n",
    "}"
   ]
  },
  {
   "cell_type": "markdown",
   "metadata": {},
   "source": [
    "# Creating IAM Role"
   ]
  },
  {
   "cell_type": "code",
   "execution_count": 64,
   "metadata": {},
   "outputs": [
    {
     "name": "stdout",
     "output_type": "stream",
     "text": [
      "Appending to lambda.tf\n"
     ]
    }
   ],
   "source": [
    "%%writefile -a lambda.tf\n",
    "# IAM role which dictates what other AWS services the Lambda function\n",
    "# may access.\n",
    "## Testing a working example\n",
    "resource \"aws_iam_role\" \"lambda_exec\" {\n",
    "    name = \"assume-role\"\n",
    "    assume_role_policy = <<EOF\n",
    "{\n",
    "    \"Version\": \"2012-10-17\",\n",
    "    \"Statement\": [\n",
    "        {\n",
    "          \"Action\": \"sts:AssumeRole\",\n",
    "          \"Principal\": {\n",
    "            \"Service\": \"lambda.amazonaws.com\"\n",
    "          },\n",
    "          \"Effect\": \"Allow\",\n",
    "          \"Sid\": \"\"\n",
    "        }\n",
    "      ]\n",
    "    }\n",
    "EOF\n",
    "}\n",
    "\n",
    "resource \"aws_iam_policy\" \"policy\" {\n",
    "    name        = \"control-policy\"\n",
    "    description = \"A policy to control SageMaker instances start/stop state\"\n",
    "    policy = <<EOF\n",
    "{\n",
    "    \"Version\": \"2012-10-17\",\n",
    "    \"Statement\": [\n",
    "        {\n",
    "            \"Sid\": \"CloudWatchLogs0\",\n",
    "            \"Effect\": \"Allow\",\n",
    "            \"Action\": [\n",
    "                \"logs:CreateLogStream\",\n",
    "                \"logs:PutLogEvents\"\n",
    "            ],\n",
    "            \"Resource\": \"arn:aws:logs:eu-west-1:217431963147:log-group:/aws/lambda/*NotebookInstance:*\"\n",
    "        },\n",
    "        {\n",
    "            \"Sid\": \"InstanceControl\",\n",
    "            \"Effect\": \"Allow\",\n",
    "            \"Action\": [\n",
    "                \"sagemaker:ListTags\",\n",
    "                \"ec2:ModifyNetworkInterfaceAttribute\",\n",
    "                \"sagemaker:DescribeNotebookInstance\",\n",
    "                \"ec2:DeleteNetworkInterface\",\n",
    "                \"ec2:DescribeSecurityGroups\",\n",
    "                \"ec2:CreateNetworkInterface\",\n",
    "                \"ec2:DescribeInternetGateways\",\n",
    "                \"ec2:DescribeNetworkInterfaces\",\n",
    "                \"ec2:DescribeAvailabilityZones\",\n",
    "                \"sagemaker:StopNotebookInstance\",\n",
    "                \"ec2:DescribeVpcs\",\n",
    "                \"sagemaker:StartNotebookInstance\",\n",
    "                \"ec2:AttachNetworkInterface\",\n",
    "                \"ec2:DescribeSubnets\",\n",
    "                \"sagemaker:ListNotebookInstances\"\n",
    "            ],\n",
    "            \"Resource\": \"*\"\n",
    "        },\n",
    "        {\n",
    "            \"Sid\": \"CloudWatchLogs1\",\n",
    "            \"Effect\": \"Allow\",\n",
    "            \"Action\": \"logs:CreateLogGroup\",\n",
    "            \"Resource\": \"arn:aws:logs:eu-west-1:217431963147:*\"\n",
    "        }\n",
    "    ]\n",
    "}\n",
    "EOF\n",
    "}\n",
    "\n",
    "resource \"aws_iam_role_policy_attachment\" \"test-attach\" {\n",
    "    role       = \"${aws_iam_role.lambda_exec.name}\"\n",
    "    policy_arn = \"${aws_iam_policy.policy.arn}\"\n",
    "}"
   ]
  },
  {
   "cell_type": "markdown",
   "metadata": {},
   "source": [
    "## Terraform installation"
   ]
  },
  {
   "cell_type": "code",
   "execution_count": 21,
   "metadata": {},
   "outputs": [
    {
     "name": "stdout",
     "output_type": "stream",
     "text": [
      "--2018-08-24 20:39:29--  https://releases.hashicorp.com/terraform/0.11.8/terraform_0.11.8_linux_amd64.zip\n",
      "Resolving releases.hashicorp.com (releases.hashicorp.com)... 151.101.17.183, 2a04:4e42:4::439\n",
      "Connecting to releases.hashicorp.com (releases.hashicorp.com)|151.101.17.183|:443... connected.\n",
      "HTTP request sent, awaiting response... 200 OK\n",
      "Length: 17871447 (17M) [application/zip]\n",
      "Saving to: ‘terraform_0.11.8_linux_amd64.zip’\n",
      "\n",
      "terraform_0.11.8_li 100%[===================>]  17.04M  28.3MB/s    in 0.6s    \n",
      "\n",
      "2018-08-24 20:39:30 (28.3 MB/s) - ‘terraform_0.11.8_linux_amd64.zip’ saved [17871447/17871447]\n",
      "\n"
     ]
    }
   ],
   "source": [
    "!wget https://releases.hashicorp.com/terraform/0.11.8/terraform_0.11.8_linux_amd64.zip"
   ]
  },
  {
   "cell_type": "code",
   "execution_count": 22,
   "metadata": {},
   "outputs": [
    {
     "name": "stdout",
     "output_type": "stream",
     "text": [
      "Archive:  terraform_0.11.8_linux_amd64.zip\n",
      "  inflating: terraform               \n"
     ]
    }
   ],
   "source": [
    "!unzip terraform_0.11.8_linux_amd64.zip"
   ]
  },
  {
   "cell_type": "markdown",
   "metadata": {},
   "source": [
    "Before you can work with a new configuration directory, it must be initialized using terraform init, which in this case will install the AWS provider:"
   ]
  },
  {
   "cell_type": "code",
   "execution_count": 65,
   "metadata": {},
   "outputs": [
    {
     "name": "stdout",
     "output_type": "stream",
     "text": [
      "\n",
      "\u001b[0m\u001b[1mInitializing provider plugins...\u001b[0m\n",
      "\n",
      "The following providers do not have any version constraints in configuration,\n",
      "so the latest version was installed.\n",
      "\n",
      "To prevent automatic upgrades to new major versions that may contain breaking\n",
      "changes, it is recommended to add version = \"...\" constraints to the\n",
      "corresponding provider blocks in configuration, with the constraint strings\n",
      "suggested below.\n",
      "\n",
      "* provider.aws: version = \"~> 1.33\"\n",
      "\n",
      "\u001b[0m\u001b[1m\u001b[32mTerraform has been successfully initialized!\u001b[0m\u001b[32m\u001b[0m\n",
      "\u001b[0m\u001b[32m\n",
      "You may now begin working with Terraform. Try running \"terraform plan\" to see\n",
      "any changes that are required for your infrastructure. All Terraform commands\n",
      "should now work.\n",
      "\n",
      "If you ever set or change modules or backend configuration for Terraform,\n",
      "rerun this command to reinitialize your working directory. If you forget, other\n",
      "commands will detect it and remind you to do so if necessary.\u001b[0m\n"
     ]
    }
   ],
   "source": [
    "!./terraform init"
   ]
  },
  {
   "cell_type": "code",
   "execution_count": 66,
   "metadata": {},
   "outputs": [],
   "source": [
    "!./terraform validate"
   ]
  },
  {
   "cell_type": "code",
   "execution_count": 67,
   "metadata": {},
   "outputs": [
    {
     "name": "stdout",
     "output_type": "stream",
     "text": [
      "\u001b[0m\u001b[1mRefreshing Terraform state in-memory prior to plan...\u001b[0m\n",
      "The refreshed state will be used to calculate this plan, but will not be\n",
      "persisted to local or remote state storage.\n",
      "\u001b[0m\n",
      "\u001b[0m\u001b[1maws_iam_policy.policy: Refreshing state... (ID: arn:aws:iam::217431963147:policy/control-policy)\u001b[0m\n",
      "\n",
      "------------------------------------------------------------------------\n",
      "\n",
      "An execution plan has been generated and is shown below.\n",
      "Resource actions are indicated with the following symbols:\n",
      "  \u001b[32m+\u001b[0m create\n",
      "\u001b[0m\n",
      "Terraform will perform the following actions:\n",
      "\n",
      "\u001b[32m  \u001b[32m+\u001b[0m \u001b[32maws_iam_role.lambda_exec\n",
      "\u001b[0m      id:                    <computed>\n",
      "      arn:                   <computed>\n",
      "      assume_role_policy:    \"{\\n    \\\"Version\\\": \\\"2012-10-17\\\",\\n    \\\"Statement\\\": [\\n        {\\n          \\\"Action\\\": \\\"sts:AssumeRole\\\",\\n          \\\"Principal\\\": {\\n            \\\"Service\\\": \\\"lambda.amazonaws.com\\\"\\n          },\\n          \\\"Effect\\\": \\\"Allow\\\",\\n          \\\"Sid\\\": \\\"\\\"\\n        }\\n      ]\\n    }\\n\"\n",
      "      create_date:           <computed>\n",
      "      force_detach_policies: \"false\"\n",
      "      max_session_duration:  \"3600\"\n",
      "      name:                  \"assume-role\"\n",
      "      path:                  \"/\"\n",
      "      unique_id:             <computed>\n",
      "\u001b[0m\n",
      "\u001b[0m\u001b[32m  \u001b[32m+\u001b[0m \u001b[32maws_iam_role_policy_attachment.test-attach\n",
      "\u001b[0m      id:                    <computed>\n",
      "      policy_arn:            \"arn:aws:iam::217431963147:policy/control-policy\"\n",
      "      role:                  \"assume-role\"\n",
      "\u001b[0m\n",
      "\u001b[0m\u001b[32m  \u001b[32m+\u001b[0m \u001b[32maws_lambda_function.start_stop_sm\n",
      "\u001b[0m      id:                    <computed>\n",
      "      arn:                   <computed>\n",
      "      function_name:         \"StopStartSageMakerNotebookInstances\"\n",
      "      handler:               \"lambda_function.lambda_handler\"\n",
      "      invoke_arn:            <computed>\n",
      "      last_modified:         <computed>\n",
      "      memory_size:           \"128\"\n",
      "      publish:               \"false\"\n",
      "      qualified_arn:         <computed>\n",
      "      role:                  \"${aws_iam_role.lambda_exec.arn}\"\n",
      "      runtime:               \"python3.6\"\n",
      "      s3_bucket:             \"terraform-serverless-repository\"\n",
      "      s3_key:                \"v1.0.0/lambda.zip\"\n",
      "      source_code_hash:      <computed>\n",
      "      source_code_size:      <computed>\n",
      "      timeout:               \"3\"\n",
      "      tracing_config.#:      <computed>\n",
      "      version:               <computed>\n",
      "\u001b[0m\n",
      "\u001b[0m\n",
      "\u001b[0m\u001b[1mPlan:\u001b[0m 3 to add, 0 to change, 0 to destroy.\u001b[0m\n",
      "\n",
      "------------------------------------------------------------------------\n",
      "\n",
      "Note: You didn't specify an \"-out\" parameter to save this plan, so Terraform\n",
      "can't guarantee that exactly these actions will be performed if\n",
      "\"terraform apply\" is subsequently run.\n",
      "\n"
     ]
    }
   ],
   "source": [
    "!./terraform plan"
   ]
  },
  {
   "cell_type": "code",
   "execution_count": 68,
   "metadata": {},
   "outputs": [
    {
     "name": "stdout",
     "output_type": "stream",
     "text": [
      "\u001b[0m\u001b[1maws_iam_policy.policy: Refreshing state... (ID: arn:aws:iam::217431963147:policy/control-policy)\u001b[0m\n",
      "\u001b[0m\u001b[1maws_iam_role.lambda_exec: Creating...\u001b[0m\n",
      "  arn:                   \"\" => \"<computed>\"\n",
      "  assume_role_policy:    \"\" => \"{\\n    \\\"Version\\\": \\\"2012-10-17\\\",\\n    \\\"Statement\\\": [\\n        {\\n          \\\"Action\\\": \\\"sts:AssumeRole\\\",\\n          \\\"Principal\\\": {\\n            \\\"Service\\\": \\\"lambda.amazonaws.com\\\"\\n          },\\n          \\\"Effect\\\": \\\"Allow\\\",\\n          \\\"Sid\\\": \\\"\\\"\\n        }\\n      ]\\n    }\\n\"\n",
      "  create_date:           \"\" => \"<computed>\"\n",
      "  force_detach_policies: \"\" => \"false\"\n",
      "  max_session_duration:  \"\" => \"3600\"\n",
      "  name:                  \"\" => \"assume-role\"\n",
      "  path:                  \"\" => \"/\"\n",
      "  unique_id:             \"\" => \"<computed>\"\u001b[0m\n",
      "\u001b[0m\u001b[1maws_iam_role.lambda_exec: Creation complete after 0s (ID: assume-role)\u001b[0m\u001b[0m\n",
      "\u001b[0m\u001b[1maws_iam_role_policy_attachment.test-attach: Creating...\u001b[0m\n",
      "  policy_arn: \"\" => \"arn:aws:iam::217431963147:policy/control-policy\"\n",
      "  role:       \"\" => \"assume-role\"\u001b[0m\n",
      "\u001b[0m\u001b[1maws_lambda_function.start_stop_sm: Creating...\u001b[0m\n",
      "  arn:              \"\" => \"<computed>\"\n",
      "  function_name:    \"\" => \"StopStartSageMakerNotebookInstances\"\n",
      "  handler:          \"\" => \"lambda_function.lambda_handler\"\n",
      "  invoke_arn:       \"\" => \"<computed>\"\n",
      "  last_modified:    \"\" => \"<computed>\"\n",
      "  memory_size:      \"\" => \"128\"\n",
      "  publish:          \"\" => \"false\"\n",
      "  qualified_arn:    \"\" => \"<computed>\"\n",
      "  role:             \"\" => \"arn:aws:iam::217431963147:role/assume-role\"\n",
      "  runtime:          \"\" => \"python3.6\"\n",
      "  s3_bucket:        \"\" => \"terraform-serverless-repository\"\n",
      "  s3_key:           \"\" => \"v1.0.0/lambda.zip\"\n",
      "  source_code_hash: \"\" => \"<computed>\"\n",
      "  source_code_size: \"\" => \"<computed>\"\n",
      "  timeout:          \"\" => \"3\"\n",
      "  tracing_config.#: \"\" => \"<computed>\"\n",
      "  version:          \"\" => \"<computed>\"\u001b[0m\n",
      "\u001b[0m\u001b[1maws_iam_role_policy_attachment.test-attach: Creation complete after 1s (ID: assume-role-20180825141001678900000001)\u001b[0m\u001b[0m\n",
      "\u001b[0m\u001b[1maws_lambda_function.start_stop_sm: Still creating... (10s elapsed)\u001b[0m\u001b[0m\n",
      "\u001b[0m\u001b[1maws_lambda_function.start_stop_sm: Creation complete after 17s (ID: StopStartSageMakerNotebookInstances)\u001b[0m\u001b[0m\n",
      "\u001b[0m\u001b[1m\u001b[32m\n",
      "Apply complete! Resources: 3 added, 0 changed, 0 destroyed.\u001b[0m\n"
     ]
    }
   ],
   "source": [
    "!./terraform apply -input=false -auto-approve"
   ]
  },
  {
   "cell_type": "code",
   "execution_count": 93,
   "metadata": {},
   "outputs": [
    {
     "name": "stdout",
     "output_type": "stream",
     "text": [
      "{\r\n",
      "    \"Functions\": [\r\n",
      "        {\r\n",
      "            \"FunctionName\": \"StopStartSageMakerNotebookInstances\",\r\n",
      "            \"FunctionArn\": \"arn:aws:lambda:eu-west-1:217431963147:function:StopStartSageMakerNotebookInstances\",\r\n",
      "            \"Runtime\": \"python3.6\",\r\n",
      "            \"Role\": \"arn:aws:iam::217431963147:role/assume-role\",\r\n",
      "            \"Handler\": \"lambda_function.lambda_handler\",\r\n",
      "            \"CodeSize\": 593,\r\n",
      "            \"Description\": \"\",\r\n",
      "            \"Timeout\": 3,\r\n",
      "            \"MemorySize\": 128,\r\n",
      "            \"LastModified\": \"2018-08-25T14:57:42.376+0000\",\r\n",
      "            \"CodeSha256\": \"dwNSUpqfgdNJLyUQmxEcRTM1IhJwc/Nc0rpUbzYEVn8=\",\r\n",
      "            \"Version\": \"$LATEST\",\r\n",
      "            \"TracingConfig\": {\r\n",
      "                \"Mode\": \"PassThrough\"\r\n",
      "            },\r\n",
      "            \"RevisionId\": \"073b272f-2089-48e1-8f71-495563b987aa\"\r\n",
      "        }\r\n",
      "    ]\r\n",
      "}\r\n"
     ]
    }
   ],
   "source": [
    "!aws lambda list-functions"
   ]
  },
  {
   "cell_type": "markdown",
   "metadata": {},
   "source": [
    "Testing the deployment of the Lambda function with the event format we will use in our CloudWatch event"
   ]
  },
  {
   "cell_type": "code",
   "execution_count": 77,
   "metadata": {},
   "outputs": [
    {
     "name": "stdout",
     "output_type": "stream",
     "text": [
      "START RequestId: 4e8c3655-a872-11e8-a36c-296fe0514407 Version: $LATEST\r\n",
      "[INFO]\t2018-08-25T14:22:33.251Z\t4e8c3655-a872-11e8-a36c-296fe0514407\tResetting dropped connection: sagemaker.eu-west-1.amazonaws.com\r\n",
      "[INFO]\t2018-08-25T14:22:33.411Z\t4e8c3655-a872-11e8-a36c-296fe0514407\tinstance fastai-with-efs is in Service\r\n",
      "[INFO]\t2018-08-25T14:22:33.520Z\t4e8c3655-a872-11e8-a36c-296fe0514407\tNot in duty\r\n",
      "[INFO]\t2018-08-25T14:22:33.522Z\t4e8c3655-a872-11e8-a36c-296fe0514407\tinstance fastai-with-efs is in duty\r\n",
      "An error occurred (ValidationException) when calling the StartNotebookInstance operation: Status (InService) not in ([Stopped, Failed]). Unable to transition to (Pending) for Notebook Instance (arn:aws:sagemaker:eu-west-1:217431963147:notebook-instance/fastai-with-efs).: ClientError\r\n",
      "Traceback (most recent call last):\r\n",
      "  File \"/var/task/lambda_function.py\", line 22, in lambda_handler\r\n",
      "    response = client.start_notebook_instance(NotebookInstanceName=candidateName)\r\n",
      "  File \"/var/runtime/botocore/client.py\", line 314, in _api_call\r\n",
      "    return self._make_api_call(operation_name, kwargs)\r\n",
      "  File \"/var/runtime/botocore/client.py\", line 612, in _make_api_call\r\n",
      "    raise error_class(parsed_response, operation_name)\r\n",
      "botocore.exceptions.ClientError: An error occurred (ValidationException) when calling the StartNotebookInstance operation: Status (InService) not in ([Stopped, Failed]). Unable to transition to (Pending) for Notebook Instance (arn:aws:sagemaker:eu-west-1:217431963147:notebook-instance/fastai-with-efs).\r\n",
      "\r\n",
      "END RequestId: 4e8c3655-a872-11e8-a36c-296fe0514407\r\n",
      "REPORT RequestId: 4e8c3655-a872-11e8-a36c-296fe0514407\tDuration: 433.76 ms\tBilled Duration: 500 ms \tMemory Size: 128 MB\tMax Memory Used: 40 MB\t\r\n"
     ]
    }
   ],
   "source": [
    "!aws lambda invoke --function-name StopStartSageMakerNotebookInstances \\\n",
    "    --payload '{\"event\":\"On\"}' \\\n",
    "    --invocation-type RequestResponse \\\n",
    "    --log-type Tail /dev/null | jq -r '.LogResult' | base64 --decode"
   ]
  },
  {
   "cell_type": "markdown",
   "metadata": {},
   "source": [
    "## Adding CloudWatch events"
   ]
  },
  {
   "cell_type": "markdown",
   "metadata": {},
   "source": [
    "We will create two CloudWatch events, one for the start of the working day and one for its end. They will run using cron that we will set the schedule of the office that we cover with it. Both events will call the same Lambda function that we defined above, but each will send a different constant event, one with \"On\" and the other with \"Off\""
   ]
  },
  {
   "cell_type": "code",
   "execution_count": 91,
   "metadata": {},
   "outputs": [
    {
     "name": "stdout",
     "output_type": "stream",
     "text": [
      "Overwriting cloud_watch.tf\n"
     ]
    }
   ],
   "source": [
    "%%writefile cloud_watch.tf\n",
    "## Based on the location of the instances. This is for Israel where \n",
    "## people are working Sunday to Thursday and 5AM GTM is 8AM\n",
    "resource \"aws_cloudwatch_event_rule\" \"on_duty\" {\n",
    "    name = \"on_duty\"\n",
    "    description = \"Fires at the beginning of the working day\"\n",
    "    schedule_expression = \"cron(0 5 ? * SUN-THU *)\"\n",
    "}\n",
    "\n",
    "## people are working Sunday to Thursday and 4PM GTM is 7PM\n",
    "resource \"aws_cloudwatch_event_rule\" \"off_duty\" {\n",
    "    name = \"off_duty\"\n",
    "    description = \"Fires at the end of the working day\"\n",
    "    schedule_expression = \"cron(0 16 ? * SUN-THU *)\"\n",
    "}\n",
    "\n",
    "resource \"aws_cloudwatch_event_target\" \"on_duty_start_instances\" {\n",
    "    rule = \"${aws_cloudwatch_event_rule.on_duty.name}\"\n",
    "    target_id = \"start_stop_sm\"\n",
    "    arn = \"${aws_lambda_function.start_stop_sm.arn}\"\n",
    "    input = <<DOC\n",
    "{\n",
    "  \"event\": \"On\"\n",
    "}\n",
    "DOC\n",
    "}\n",
    "\n",
    "resource \"aws_cloudwatch_event_target\" \"off_duty_start_instances\" {\n",
    "    rule = \"${aws_cloudwatch_event_rule.off_duty.name}\"\n",
    "    target_id = \"start_stop_sm\"\n",
    "    arn = \"${aws_lambda_function.start_stop_sm.arn}\"\n",
    "    input = <<DOC\n",
    "{\n",
    "  \"event\": \"Off\"\n",
    "}\n",
    "DOC\n",
    "}\n",
    "\n",
    "resource \"aws_lambda_permission\" \"allow_cloudwatch_to_call_On_duty\" {\n",
    "    statement_id = \"AllowExecutionFromCloudWatchOn\"\n",
    "    action = \"lambda:InvokeFunction\"\n",
    "    function_name = \"${aws_lambda_function.start_stop_sm.function_name}\"\n",
    "    principal = \"events.amazonaws.com\"\n",
    "    source_arn = \"${aws_cloudwatch_event_rule.on_duty.arn}\"\n",
    "}\n",
    "\n",
    "resource \"aws_lambda_permission\" \"allow_cloudwatch_to_call_Off_duty\" {\n",
    "    statement_id = \"AllowExecutionFromCloudWatchOff\"\n",
    "    action = \"lambda:InvokeFunction\"\n",
    "    function_name = \"${aws_lambda_function.start_stop_sm.function_name}\"\n",
    "    principal = \"events.amazonaws.com\"\n",
    "    source_arn = \"${aws_cloudwatch_event_rule.off_duty.arn}\"\n",
    "}"
   ]
  },
  {
   "cell_type": "markdown",
   "metadata": {},
   "source": [
    "Now we can update our environment with the new configuration using Terraform apply command"
   ]
  },
  {
   "cell_type": "code",
   "execution_count": 92,
   "metadata": {},
   "outputs": [
    {
     "name": "stdout",
     "output_type": "stream",
     "text": [
      "\u001b[0m\u001b[1maws_iam_policy.policy: Refreshing state... (ID: arn:aws:iam::217431963147:policy/control-policy)\u001b[0m\n",
      "\u001b[0m\u001b[1maws_iam_role.lambda_exec: Refreshing state... (ID: assume-role)\u001b[0m\n",
      "\u001b[0m\u001b[1maws_cloudwatch_event_rule.on_duty: Refreshing state... (ID: on_duty)\u001b[0m\n",
      "\u001b[0m\u001b[1maws_lambda_function.start_stop_sm: Refreshing state... (ID: StopStartSageMakerNotebookInstances)\u001b[0m\n",
      "\u001b[0m\u001b[1maws_lambda_permission.allow_cloudwatch_to_call_On_duty: Refreshing state... (ID: AllowExecutionFromCloudWatch)\u001b[0m\n",
      "\u001b[0m\u001b[1maws_cloudwatch_event_target.on_duty_start_instances: Refreshing state... (ID: on_duty-start_stop_sm)\u001b[0m\n",
      "\u001b[0m\u001b[1maws_iam_role_policy_attachment.test-attach: Refreshing state... (ID: assume-role-20180825141001678900000001)\u001b[0m\n",
      "\u001b[0m\u001b[1maws_lambda_permission.allow_cloudwatch_to_call_On_duty: Destroying... (ID: AllowExecutionFromCloudWatch)\u001b[0m\u001b[0m\n",
      "\u001b[0m\u001b[1maws_cloudwatch_event_rule.off_duty: Creating...\u001b[0m\n",
      "  arn:                 \"\" => \"<computed>\"\n",
      "  description:         \"\" => \"Fires at the end of the working day\"\n",
      "  is_enabled:          \"\" => \"true\"\n",
      "  name:                \"\" => \"off_duty\"\n",
      "  schedule_expression: \"\" => \"cron(0 16 ? * SUN-THU *)\"\u001b[0m\n",
      "\u001b[0m\u001b[1maws_lambda_permission.allow_cloudwatch_to_call_On_duty: Destruction complete after 0s\u001b[0m\u001b[0m\n",
      "\u001b[0m\u001b[1maws_cloudwatch_event_rule.off_duty: Creation complete after 0s (ID: off_duty)\u001b[0m\u001b[0m\n",
      "\u001b[0m\u001b[1maws_cloudwatch_event_target.off_duty_start_instances: Creating...\u001b[0m\n",
      "  arn:       \"\" => \"arn:aws:lambda:eu-west-1:217431963147:function:StopStartSageMakerNotebookInstances\"\n",
      "  input:     \"\" => \"{\\n  \\\"event\\\": \\\"Off\\\"\\n}\\n\"\n",
      "  rule:      \"\" => \"off_duty\"\n",
      "  target_id: \"\" => \"start_stop_sm\"\u001b[0m\n",
      "\u001b[0m\u001b[1maws_lambda_permission.allow_cloudwatch_to_call_Off_duty: Creating...\u001b[0m\n",
      "  action:        \"\" => \"lambda:InvokeFunction\"\n",
      "  function_name: \"\" => \"StopStartSageMakerNotebookInstances\"\n",
      "  principal:     \"\" => \"events.amazonaws.com\"\n",
      "  source_arn:    \"\" => \"arn:aws:events:eu-west-1:217431963147:rule/off_duty\"\n",
      "  statement_id:  \"\" => \"AllowExecutionFromCloudWatchOff\"\u001b[0m\n",
      "\u001b[0m\u001b[1maws_lambda_permission.allow_cloudwatch_to_call_On_duty: Creating...\u001b[0m\n",
      "  action:        \"\" => \"lambda:InvokeFunction\"\n",
      "  function_name: \"\" => \"StopStartSageMakerNotebookInstances\"\n",
      "  principal:     \"\" => \"events.amazonaws.com\"\n",
      "  source_arn:    \"\" => \"arn:aws:events:eu-west-1:217431963147:rule/on_duty\"\n",
      "  statement_id:  \"\" => \"AllowExecutionFromCloudWatchOn\"\u001b[0m\n",
      "\u001b[0m\u001b[1maws_cloudwatch_event_target.off_duty_start_instances: Creation complete after 0s (ID: off_duty-start_stop_sm)\u001b[0m\u001b[0m\n",
      "\u001b[0m\u001b[1maws_lambda_permission.allow_cloudwatch_to_call_On_duty: Creation complete after 0s (ID: AllowExecutionFromCloudWatchOn)\u001b[0m\u001b[0m\n",
      "\u001b[0m\u001b[1maws_lambda_permission.allow_cloudwatch_to_call_Off_duty: Creation complete after 0s (ID: AllowExecutionFromCloudWatchOff)\u001b[0m\u001b[0m\n",
      "\u001b[0m\u001b[1m\u001b[32m\n",
      "Apply complete! Resources: 4 added, 0 changed, 1 destroyed.\u001b[0m\n"
     ]
    }
   ],
   "source": [
    "!./terraform apply -input=false -auto-approve"
   ]
  },
  {
   "cell_type": "markdown",
   "metadata": {},
   "source": [
    "We can generate automatic Diagram of the environment"
   ]
  },
  {
   "cell_type": "code",
   "execution_count": 99,
   "metadata": {},
   "outputs": [],
   "source": [
    "!./terraform graph -draw-cycles | dot -Tsvg > graph.svg"
   ]
  },
  {
   "cell_type": "code",
   "execution_count": 100,
   "metadata": {},
   "outputs": [
    {
     "data": {
      "image/svg+xml": [
       "<svg height=\"404pt\" viewBox=\"0.00 0.00 1552.50 404.00\" width=\"1553pt\" xmlns=\"http://www.w3.org/2000/svg\" xmlns:xlink=\"http://www.w3.org/1999/xlink\">\n",
       "<g class=\"graph\" id=\"graph0\" transform=\"scale(1 1) rotate(0) translate(4 400)\">\n",
       "<title>%3</title>\n",
       "<polygon fill=\"#ffffff\" points=\"-4,4 -4,-400 1548.5,-400 1548.5,4 -4,4\" stroke=\"transparent\"/>\n",
       "<!-- [root] aws_cloudwatch_event_rule.off_duty -->\n",
       "<g class=\"node\" id=\"node1\">\n",
       "<title>[root] aws_cloudwatch_event_rule.off_duty</title>\n",
       "<polygon fill=\"none\" points=\"623,-180 402,-180 402,-144 623,-144 623,-180\" stroke=\"#000000\"/>\n",
       "<text fill=\"#000000\" font-family=\"Times,serif\" font-size=\"14.00\" text-anchor=\"middle\" x=\"512.5\" y=\"-158.3\">aws_cloudwatch_event_rule.off_duty</text>\n",
       "</g>\n",
       "<!-- [root] provider.aws -->\n",
       "<g class=\"node\" id=\"node11\">\n",
       "<title>[root] provider.aws</title>\n",
       "<polygon fill=\"none\" points=\"1163.5,-36 1083.5666,-18 1163.5,0 1243.4334,-18 1163.5,-36\" stroke=\"#000000\"/>\n",
       "<text fill=\"#000000\" font-family=\"Times,serif\" font-size=\"14.00\" text-anchor=\"middle\" x=\"1163.5\" y=\"-14.3\">provider.aws</text>\n",
       "</g>\n",
       "<!-- [root] aws_cloudwatch_event_rule.off_duty&#45;&gt;[root] provider.aws -->\n",
       "<g class=\"edge\" id=\"edge1\">\n",
       "<title>[root] aws_cloudwatch_event_rule.off_duty-&gt;[root] provider.aws</title>\n",
       "<path d=\"M593.9616,-143.9808C730.2683,-113.83 1000.6451,-54.0232 1112.8564,-29.2023\" fill=\"none\" stroke=\"#000000\"/>\n",
       "<polygon fill=\"#000000\" points=\"1113.8863,-32.5591 1122.8943,-26.9819 1112.3744,-25.7244 1113.8863,-32.5591\" stroke=\"#000000\"/>\n",
       "</g>\n",
       "<!-- [root] aws_cloudwatch_event_rule.on_duty -->\n",
       "<g class=\"node\" id=\"node2\">\n",
       "<title>[root] aws_cloudwatch_event_rule.on_duty</title>\n",
       "<polygon fill=\"none\" points=\"1216.5,-180 998.5,-180 998.5,-144 1216.5,-144 1216.5,-180\" stroke=\"#000000\"/>\n",
       "<text fill=\"#000000\" font-family=\"Times,serif\" font-size=\"14.00\" text-anchor=\"middle\" x=\"1107.5\" y=\"-158.3\">aws_cloudwatch_event_rule.on_duty</text>\n",
       "</g>\n",
       "<!-- [root] aws_cloudwatch_event_rule.on_duty&#45;&gt;[root] provider.aws -->\n",
       "<g class=\"edge\" id=\"edge2\">\n",
       "<title>[root] aws_cloudwatch_event_rule.on_duty-&gt;[root] provider.aws</title>\n",
       "<path d=\"M1109.2283,-143.782C1111.4771,-125.1402 1116.384,-95.637 1126.5,-72 1131.0406,-61.3904 1137.8007,-50.7012 1144.3052,-41.6648\" fill=\"none\" stroke=\"#000000\"/>\n",
       "<polygon fill=\"#000000\" points=\"1147.181,-43.6637 1150.3822,-33.5641 1141.5815,-39.463 1147.181,-43.6637\" stroke=\"#000000\"/>\n",
       "</g>\n",
       "<!-- [root] aws_cloudwatch_event_target.off_duty_start_instances -->\n",
       "<g class=\"node\" id=\"node3\">\n",
       "<title>[root] aws_cloudwatch_event_target.off_duty_start_instances</title>\n",
       "<polygon fill=\"none\" points=\"317,-252 0,-252 0,-216 317,-216 317,-252\" stroke=\"#000000\"/>\n",
       "<text fill=\"#000000\" font-family=\"Times,serif\" font-size=\"14.00\" text-anchor=\"middle\" x=\"158.5\" y=\"-230.3\">aws_cloudwatch_event_target.off_duty_start_instances</text>\n",
       "</g>\n",
       "<!-- [root] aws_cloudwatch_event_target.off_duty_start_instances&#45;&gt;[root] aws_cloudwatch_event_rule.off_duty -->\n",
       "<g class=\"edge\" id=\"edge3\">\n",
       "<title>[root] aws_cloudwatch_event_target.off_duty_start_instances-&gt;[root] aws_cloudwatch_event_rule.off_duty</title>\n",
       "<path d=\"M247.3722,-215.9243C298.0716,-205.6126 361.7223,-192.6666 413.9493,-182.0442\" fill=\"none\" stroke=\"#000000\"/>\n",
       "<polygon fill=\"#000000\" points=\"414.7966,-185.4436 423.8983,-180.0207 413.4013,-178.5841 414.7966,-185.4436\" stroke=\"#000000\"/>\n",
       "</g>\n",
       "<!-- [root] aws_lambda_function.start_stop_sm -->\n",
       "<g class=\"node\" id=\"node8\">\n",
       "<title>[root] aws_lambda_function.start_stop_sm</title>\n",
       "<polygon fill=\"none\" points=\"972.5,-180 756.5,-180 756.5,-144 972.5,-144 972.5,-180\" stroke=\"#000000\"/>\n",
       "<text fill=\"#000000\" font-family=\"Times,serif\" font-size=\"14.00\" text-anchor=\"middle\" x=\"864.5\" y=\"-158.3\">aws_lambda_function.start_stop_sm</text>\n",
       "</g>\n",
       "<!-- [root] aws_cloudwatch_event_target.off_duty_start_instances&#45;&gt;[root] aws_lambda_function.start_stop_sm -->\n",
       "<g class=\"edge\" id=\"edge4\">\n",
       "<title>[root] aws_cloudwatch_event_target.off_duty_start_instances-&gt;[root] aws_lambda_function.start_stop_sm</title>\n",
       "<path d=\"M317.223,-216.9653C320.3415,-216.6399 323.4364,-216.3179 326.5,-216 470.918,-201.0157 637.2169,-184.4259 746.2382,-173.6404\" fill=\"none\" stroke=\"#000000\"/>\n",
       "<polygon fill=\"#000000\" points=\"746.6718,-177.1147 756.2788,-172.6475 745.9829,-170.1487 746.6718,-177.1147\" stroke=\"#000000\"/>\n",
       "</g>\n",
       "<!-- [root] aws_cloudwatch_event_target.on_duty_start_instances -->\n",
       "<g class=\"node\" id=\"node4\">\n",
       "<title>[root] aws_cloudwatch_event_target.on_duty_start_instances</title>\n",
       "<polygon fill=\"none\" points=\"1021.5,-252 707.5,-252 707.5,-216 1021.5,-216 1021.5,-252\" stroke=\"#000000\"/>\n",
       "<text fill=\"#000000\" font-family=\"Times,serif\" font-size=\"14.00\" text-anchor=\"middle\" x=\"864.5\" y=\"-230.3\">aws_cloudwatch_event_target.on_duty_start_instances</text>\n",
       "</g>\n",
       "<!-- [root] aws_cloudwatch_event_target.on_duty_start_instances&#45;&gt;[root] aws_cloudwatch_event_rule.on_duty -->\n",
       "<g class=\"edge\" id=\"edge5\">\n",
       "<title>[root] aws_cloudwatch_event_target.on_duty_start_instances-&gt;[root] aws_cloudwatch_event_rule.on_duty</title>\n",
       "<path d=\"M925.5055,-215.9243C959.3028,-205.9103 1001.4844,-193.412 1036.7262,-182.97\" fill=\"none\" stroke=\"#000000\"/>\n",
       "<polygon fill=\"#000000\" points=\"1037.8757,-186.2799 1046.4694,-180.0831 1035.8871,-179.5683 1037.8757,-186.2799\" stroke=\"#000000\"/>\n",
       "</g>\n",
       "<!-- [root] aws_cloudwatch_event_target.on_duty_start_instances&#45;&gt;[root] aws_lambda_function.start_stop_sm -->\n",
       "<g class=\"edge\" id=\"edge6\">\n",
       "<title>[root] aws_cloudwatch_event_target.on_duty_start_instances-&gt;[root] aws_lambda_function.start_stop_sm</title>\n",
       "<path d=\"M864.5,-215.8314C864.5,-208.131 864.5,-198.9743 864.5,-190.4166\" fill=\"none\" stroke=\"#000000\"/>\n",
       "<polygon fill=\"#000000\" points=\"868.0001,-190.4132 864.5,-180.4133 861.0001,-190.4133 868.0001,-190.4132\" stroke=\"#000000\"/>\n",
       "</g>\n",
       "<!-- [root] aws_iam_policy.policy -->\n",
       "<g class=\"node\" id=\"node5\">\n",
       "<title>[root] aws_iam_policy.policy</title>\n",
       "<polygon fill=\"none\" points=\"1482,-108 1339,-108 1339,-72 1482,-72 1482,-108\" stroke=\"#000000\"/>\n",
       "<text fill=\"#000000\" font-family=\"Times,serif\" font-size=\"14.00\" text-anchor=\"middle\" x=\"1410.5\" y=\"-86.3\">aws_iam_policy.policy</text>\n",
       "</g>\n",
       "<!-- [root] aws_iam_policy.policy&#45;&gt;[root] provider.aws -->\n",
       "<g class=\"edge\" id=\"edge7\">\n",
       "<title>[root] aws_iam_policy.policy-&gt;[root] provider.aws</title>\n",
       "<path d=\"M1348.4903,-71.9243C1304.8458,-59.202 1247.4458,-42.47 1208.2308,-31.0389\" fill=\"none\" stroke=\"#000000\"/>\n",
       "<polygon fill=\"#000000\" points=\"1209.0043,-27.6188 1198.4244,-28.1804 1207.0453,-34.3391 1209.0043,-27.6188\" stroke=\"#000000\"/>\n",
       "</g>\n",
       "<!-- [root] aws_iam_role.lambda_exec -->\n",
       "<g class=\"node\" id=\"node6\">\n",
       "<title>[root] aws_iam_role.lambda_exec</title>\n",
       "<polygon fill=\"none\" points=\"1304,-108 1135,-108 1135,-72 1304,-72 1304,-108\" stroke=\"#000000\"/>\n",
       "<text fill=\"#000000\" font-family=\"Times,serif\" font-size=\"14.00\" text-anchor=\"middle\" x=\"1219.5\" y=\"-86.3\">aws_iam_role.lambda_exec</text>\n",
       "</g>\n",
       "<!-- [root] aws_iam_role.lambda_exec&#45;&gt;[root] provider.aws -->\n",
       "<g class=\"edge\" id=\"edge8\">\n",
       "<title>[root] aws_iam_role.lambda_exec-&gt;[root] provider.aws</title>\n",
       "<path d=\"M1205.3688,-71.8314C1198.2517,-62.6807 1189.5351,-51.4737 1181.9014,-41.6589\" fill=\"none\" stroke=\"#000000\"/>\n",
       "<polygon fill=\"#000000\" points=\"1184.4414,-39.2237 1175.5392,-33.479 1178.9159,-43.5213 1184.4414,-39.2237\" stroke=\"#000000\"/>\n",
       "</g>\n",
       "<!-- [root] aws_iam_role_policy_attachment.test&#45;attach -->\n",
       "<g class=\"node\" id=\"node7\">\n",
       "<title>[root] aws_iam_role_policy_attachment.test-attach</title>\n",
       "<polygon fill=\"none\" points=\"1544.5,-180 1284.5,-180 1284.5,-144 1544.5,-144 1544.5,-180\" stroke=\"#000000\"/>\n",
       "<text fill=\"#000000\" font-family=\"Times,serif\" font-size=\"14.00\" text-anchor=\"middle\" x=\"1414.5\" y=\"-158.3\">aws_iam_role_policy_attachment.test-attach</text>\n",
       "</g>\n",
       "<!-- [root] aws_iam_role_policy_attachment.test&#45;attach&#45;&gt;[root] aws_iam_policy.policy -->\n",
       "<g class=\"edge\" id=\"edge9\">\n",
       "<title>[root] aws_iam_role_policy_attachment.test-attach-&gt;[root] aws_iam_policy.policy</title>\n",
       "<path d=\"M1413.4906,-143.8314C1413.0628,-136.131 1412.5541,-126.9743 1412.0787,-118.4166\" fill=\"none\" stroke=\"#000000\"/>\n",
       "<polygon fill=\"#000000\" points=\"1415.5724,-118.2037 1411.523,-108.4133 1408.5831,-118.592 1415.5724,-118.2037\" stroke=\"#000000\"/>\n",
       "</g>\n",
       "<!-- [root] aws_iam_role_policy_attachment.test&#45;attach&#45;&gt;[root] aws_iam_role.lambda_exec -->\n",
       "<g class=\"edge\" id=\"edge10\">\n",
       "<title>[root] aws_iam_role_policy_attachment.test-attach-&gt;[root] aws_iam_role.lambda_exec</title>\n",
       "<path d=\"M1365.545,-143.9243C1339.0032,-134.1243 1306.0177,-121.945 1278.1142,-111.6422\" fill=\"none\" stroke=\"#000000\"/>\n",
       "<polygon fill=\"#000000\" points=\"1279.0685,-108.2636 1268.4752,-108.0831 1276.6438,-114.8303 1279.0685,-108.2636\" stroke=\"#000000\"/>\n",
       "</g>\n",
       "<!-- [root] aws_lambda_function.start_stop_sm&#45;&gt;[root] aws_iam_role.lambda_exec -->\n",
       "<g class=\"edge\" id=\"edge11\">\n",
       "<title>[root] aws_lambda_function.start_stop_sm-&gt;[root] aws_iam_role.lambda_exec</title>\n",
       "<path d=\"M953.6233,-143.9243C1005.8165,-133.3386 1071.6969,-119.977 1124.8202,-109.2027\" fill=\"none\" stroke=\"#000000\"/>\n",
       "<polygon fill=\"#000000\" points=\"1125.8207,-112.5711 1134.9254,-107.1532 1124.4292,-105.7108 1125.8207,-112.5711\" stroke=\"#000000\"/>\n",
       "</g>\n",
       "<!-- [root] aws_lambda_permission.allow_cloudwatch_to_call_Off_duty -->\n",
       "<g class=\"node\" id=\"node9\">\n",
       "<title>[root] aws_lambda_permission.allow_cloudwatch_to_call_Off_duty</title>\n",
       "<polygon fill=\"none\" points=\"689.5,-252 335.5,-252 335.5,-216 689.5,-216 689.5,-252\" stroke=\"#000000\"/>\n",
       "<text fill=\"#000000\" font-family=\"Times,serif\" font-size=\"14.00\" text-anchor=\"middle\" x=\"512.5\" y=\"-230.3\">aws_lambda_permission.allow_cloudwatch_to_call_Off_duty</text>\n",
       "</g>\n",
       "<!-- [root] aws_lambda_permission.allow_cloudwatch_to_call_Off_duty&#45;&gt;[root] aws_cloudwatch_event_rule.off_duty -->\n",
       "<g class=\"edge\" id=\"edge12\">\n",
       "<title>[root] aws_lambda_permission.allow_cloudwatch_to_call_Off_duty-&gt;[root] aws_cloudwatch_event_rule.off_duty</title>\n",
       "<path d=\"M512.5,-215.8314C512.5,-208.131 512.5,-198.9743 512.5,-190.4166\" fill=\"none\" stroke=\"#000000\"/>\n",
       "<polygon fill=\"#000000\" points=\"516.0001,-190.4132 512.5,-180.4133 509.0001,-190.4133 516.0001,-190.4132\" stroke=\"#000000\"/>\n",
       "</g>\n",
       "<!-- [root] aws_lambda_permission.allow_cloudwatch_to_call_Off_duty&#45;&gt;[root] aws_lambda_function.start_stop_sm -->\n",
       "<g class=\"edge\" id=\"edge13\">\n",
       "<title>[root] aws_lambda_permission.allow_cloudwatch_to_call_Off_duty-&gt;[root] aws_lambda_function.start_stop_sm</title>\n",
       "<path d=\"M600.8701,-215.9243C651.283,-205.6126 714.5742,-192.6666 766.506,-182.0442\" fill=\"none\" stroke=\"#000000\"/>\n",
       "<polygon fill=\"#000000\" points=\"767.3031,-185.4537 776.3989,-180.0207 765.9003,-178.5957 767.3031,-185.4537\" stroke=\"#000000\"/>\n",
       "</g>\n",
       "<!-- [root] aws_lambda_permission.allow_cloudwatch_to_call_On_duty -->\n",
       "<g class=\"node\" id=\"node10\">\n",
       "<title>[root] aws_lambda_permission.allow_cloudwatch_to_call_On_duty</title>\n",
       "<polygon fill=\"none\" points=\"1391.5,-252 1039.5,-252 1039.5,-216 1391.5,-216 1391.5,-252\" stroke=\"#000000\"/>\n",
       "<text fill=\"#000000\" font-family=\"Times,serif\" font-size=\"14.00\" text-anchor=\"middle\" x=\"1215.5\" y=\"-230.3\">aws_lambda_permission.allow_cloudwatch_to_call_On_duty</text>\n",
       "</g>\n",
       "<!-- [root] aws_lambda_permission.allow_cloudwatch_to_call_On_duty&#45;&gt;[root] aws_cloudwatch_event_rule.on_duty -->\n",
       "<g class=\"edge\" id=\"edge14\">\n",
       "<title>[root] aws_lambda_permission.allow_cloudwatch_to_call_On_duty-&gt;[root] aws_cloudwatch_event_rule.on_duty</title>\n",
       "<path d=\"M1188.247,-215.8314C1174.5611,-206.7074 1157.8085,-195.539 1143.1173,-185.7449\" fill=\"none\" stroke=\"#000000\"/>\n",
       "<polygon fill=\"#000000\" points=\"1145.0062,-182.7977 1134.7442,-180.1628 1141.1233,-188.6221 1145.0062,-182.7977\" stroke=\"#000000\"/>\n",
       "</g>\n",
       "<!-- [root] aws_lambda_permission.allow_cloudwatch_to_call_On_duty&#45;&gt;[root] aws_lambda_function.start_stop_sm -->\n",
       "<g class=\"edge\" id=\"edge15\">\n",
       "<title>[root] aws_lambda_permission.allow_cloudwatch_to_call_On_duty-&gt;[root] aws_lambda_function.start_stop_sm</title>\n",
       "<path d=\"M1127.3809,-215.9243C1077.1112,-205.6126 1013.9999,-192.6666 962.2156,-182.0442\" fill=\"none\" stroke=\"#000000\"/>\n",
       "<polygon fill=\"#000000\" points=\"962.8502,-178.6016 952.3508,-180.0207 961.4435,-185.4588 962.8502,-178.6016\" stroke=\"#000000\"/>\n",
       "</g>\n",
       "<!-- [root] meta.count&#45;boundary (count boundary fixup) -->\n",
       "<g class=\"node\" id=\"node12\">\n",
       "<title>[root] meta.count-boundary (count boundary fixup)</title>\n",
       "<ellipse cx=\"706.5\" cy=\"-306\" fill=\"none\" rx=\"193.0657\" ry=\"18\" stroke=\"#000000\"/>\n",
       "<text fill=\"#000000\" font-family=\"Times,serif\" font-size=\"14.00\" text-anchor=\"middle\" x=\"706.5\" y=\"-302.3\">[root] meta.count-boundary (count boundary fixup)</text>\n",
       "</g>\n",
       "<!-- [root] meta.count&#45;boundary (count boundary fixup)&#45;&gt;[root] aws_cloudwatch_event_target.off_duty_start_instances -->\n",
       "<g class=\"edge\" id=\"edge16\">\n",
       "<title>[root] meta.count-boundary (count boundary fixup)-&gt;[root] aws_cloudwatch_event_target.off_duty_start_instances</title>\n",
       "<path d=\"M594.6127,-291.2995C511.2603,-280.3481 396.6536,-265.2903 305.8439,-253.3591\" fill=\"none\" stroke=\"#000000\"/>\n",
       "<polygon fill=\"#000000\" points=\"306.1052,-249.8634 295.7345,-252.0308 305.1933,-256.8037 306.1052,-249.8634\" stroke=\"#000000\"/>\n",
       "</g>\n",
       "<!-- [root] meta.count&#45;boundary (count boundary fixup)&#45;&gt;[root] aws_cloudwatch_event_target.on_duty_start_instances -->\n",
       "<g class=\"edge\" id=\"edge17\">\n",
       "<title>[root] meta.count-boundary (count boundary fixup)-&gt;[root] aws_cloudwatch_event_target.on_duty_start_instances</title>\n",
       "<path d=\"M745.5562,-288.2022C766.6658,-278.5827 792.939,-266.6101 815.4195,-256.3658\" fill=\"none\" stroke=\"#000000\"/>\n",
       "<polygon fill=\"#000000\" points=\"817.1473,-259.4248 824.7957,-252.0931 814.2446,-253.055 817.1473,-259.4248\" stroke=\"#000000\"/>\n",
       "</g>\n",
       "<!-- [root] meta.count&#45;boundary (count boundary fixup)&#45;&gt;[root] aws_iam_role_policy_attachment.test&#45;attach -->\n",
       "<g class=\"edge\" id=\"edge18\">\n",
       "<title>[root] meta.count-boundary (count boundary fixup)-&gt;[root] aws_iam_role_policy_attachment.test-attach</title>\n",
       "<path d=\"M844.7468,-293.3882C866.0899,-291.5258 887.8828,-289.6728 908.5,-288 963.1333,-283.5673 1360.1988,-289.1518 1400.5,-252 1417.0568,-236.737 1419.5255,-210.6051 1418.4565,-190.4195\" fill=\"none\" stroke=\"#000000\"/>\n",
       "<polygon fill=\"#000000\" points=\"1421.9237,-189.8816 1417.5985,-180.2099 1414.9483,-190.4679 1421.9237,-189.8816\" stroke=\"#000000\"/>\n",
       "</g>\n",
       "<!-- [root] meta.count&#45;boundary (count boundary fixup)&#45;&gt;[root] aws_lambda_permission.allow_cloudwatch_to_call_Off_duty -->\n",
       "<g class=\"edge\" id=\"edge19\">\n",
       "<title>[root] meta.count-boundary (count boundary fixup)-&gt;[root] aws_lambda_permission.allow_cloudwatch_to_call_Off_duty</title>\n",
       "<path d=\"M659.0423,-288.3868C632.4512,-278.518 599.0702,-266.1291 570.8866,-255.6693\" fill=\"none\" stroke=\"#000000\"/>\n",
       "<polygon fill=\"#000000\" points=\"571.7471,-252.2554 561.1541,-252.0572 569.3115,-258.818 571.7471,-252.2554\" stroke=\"#000000\"/>\n",
       "</g>\n",
       "<!-- [root] meta.count&#45;boundary (count boundary fixup)&#45;&gt;[root] aws_lambda_permission.allow_cloudwatch_to_call_On_duty -->\n",
       "<g class=\"edge\" id=\"edge20\">\n",
       "<title>[root] meta.count-boundary (count boundary fixup)-&gt;[root] aws_lambda_permission.allow_cloudwatch_to_call_On_duty</title>\n",
       "<path d=\"M812.8931,-290.9503C889.907,-280.0564 994.6726,-265.2369 1078.0275,-253.446\" fill=\"none\" stroke=\"#000000\"/>\n",
       "<polygon fill=\"#000000\" points=\"1078.6721,-256.8898 1088.0833,-252.0236 1077.6916,-249.9588 1078.6721,-256.8898\" stroke=\"#000000\"/>\n",
       "</g>\n",
       "<!-- [root] provider.aws (close) -->\n",
       "<g class=\"node\" id=\"node13\">\n",
       "<title>[root] provider.aws (close)</title>\n",
       "<ellipse cx=\"1022.5\" cy=\"-306\" fill=\"none\" rx=\"105.0817\" ry=\"18\" stroke=\"#000000\"/>\n",
       "<text fill=\"#000000\" font-family=\"Times,serif\" font-size=\"14.00\" text-anchor=\"middle\" x=\"1022.5\" y=\"-302.3\">[root] provider.aws (close)</text>\n",
       "</g>\n",
       "<!-- [root] provider.aws (close)&#45;&gt;[root] aws_cloudwatch_event_target.off_duty_start_instances -->\n",
       "<g class=\"edge\" id=\"edge21\">\n",
       "<title>[root] provider.aws (close)-&gt;[root] aws_cloudwatch_event_target.off_duty_start_instances</title>\n",
       "<path d=\"M948.1299,-293.2164C934.9568,-291.2497 921.3468,-289.4083 908.5,-288 654.1529,-260.1171 586.4519,-273.4602 327.3005,-252.0402\" fill=\"none\" stroke=\"#000000\"/>\n",
       "<polygon fill=\"#000000\" points=\"327.4646,-248.5418 317.2078,-251.1965 326.8815,-255.5175 327.4646,-248.5418\" stroke=\"#000000\"/>\n",
       "</g>\n",
       "<!-- [root] provider.aws (close)&#45;&gt;[root] aws_cloudwatch_event_target.on_duty_start_instances -->\n",
       "<g class=\"edge\" id=\"edge22\">\n",
       "<title>[root] provider.aws (close)-&gt;[root] aws_cloudwatch_event_target.on_duty_start_instances</title>\n",
       "<path d=\"M985.456,-289.1192C963.9715,-279.3288 936.6549,-266.8807 913.4195,-256.2924\" fill=\"none\" stroke=\"#000000\"/>\n",
       "<polygon fill=\"#000000\" points=\"914.6249,-252.9955 904.0738,-252.0336 911.7222,-259.3653 914.6249,-252.9955\" stroke=\"#000000\"/>\n",
       "</g>\n",
       "<!-- [root] provider.aws (close)&#45;&gt;[root] aws_iam_role_policy_attachment.test&#45;attach -->\n",
       "<g class=\"edge\" id=\"edge23\">\n",
       "<title>[root] provider.aws (close)-&gt;[root] aws_iam_role_policy_attachment.test-attach</title>\n",
       "<path d=\"M1121.3805,-299.7612C1236.388,-291.4765 1413.1967,-275.1454 1433.5,-252 1448.523,-234.874 1440.9028,-208.8874 1431.2102,-189.2335\" fill=\"none\" stroke=\"#000000\"/>\n",
       "<polygon fill=\"#000000\" points=\"1434.1671,-187.3399 1426.3757,-180.1604 1427.9894,-190.6317 1434.1671,-187.3399\" stroke=\"#000000\"/>\n",
       "</g>\n",
       "<!-- [root] provider.aws (close)&#45;&gt;[root] aws_lambda_permission.allow_cloudwatch_to_call_Off_duty -->\n",
       "<g class=\"edge\" id=\"edge24\">\n",
       "<title>[root] provider.aws (close)-&gt;[root] aws_lambda_permission.allow_cloudwatch_to_call_Off_duty</title>\n",
       "<path d=\"M945.5748,-293.6277C933.1848,-291.7001 920.4932,-289.7644 908.5,-288 826.3779,-275.9188 734.5328,-263.3367 659.9848,-253.3601\" fill=\"none\" stroke=\"#000000\"/>\n",
       "<polygon fill=\"#000000\" points=\"660.4262,-249.8881 650.0506,-252.0323 659.4988,-256.8264 660.4262,-249.8881\" stroke=\"#000000\"/>\n",
       "</g>\n",
       "<!-- [root] provider.aws (close)&#45;&gt;[root] aws_lambda_permission.allow_cloudwatch_to_call_On_duty -->\n",
       "<g class=\"edge\" id=\"edge25\">\n",
       "<title>[root] provider.aws (close)-&gt;[root] aws_lambda_permission.allow_cloudwatch_to_call_On_duty</title>\n",
       "<path d=\"M1066.7781,-289.4817C1093.6745,-279.4479 1128.3162,-266.5245 1157.3983,-255.6752\" fill=\"none\" stroke=\"#000000\"/>\n",
       "<polygon fill=\"#000000\" points=\"1158.8827,-258.8572 1167.0286,-252.0826 1156.436,-252.2987 1158.8827,-258.8572\" stroke=\"#000000\"/>\n",
       "</g>\n",
       "<!-- [root] root -->\n",
       "<g class=\"node\" id=\"node14\">\n",
       "<title>[root] root</title>\n",
       "<ellipse cx=\"864.5\" cy=\"-378\" fill=\"none\" rx=\"47.3916\" ry=\"18\" stroke=\"#000000\"/>\n",
       "<text fill=\"#000000\" font-family=\"Times,serif\" font-size=\"14.00\" text-anchor=\"middle\" x=\"864.5\" y=\"-374.3\">[root] root</text>\n",
       "</g>\n",
       "<!-- [root] root&#45;&gt;[root] meta.count&#45;boundary (count boundary fixup) -->\n",
       "<g class=\"edge\" id=\"edge26\">\n",
       "<title>[root] root-&gt;[root] meta.count-boundary (count boundary fixup)</title>\n",
       "<path d=\"M834.036,-364.1177C811.5139,-353.8544 780.3989,-339.6754 754.5408,-327.892\" fill=\"none\" stroke=\"#000000\"/>\n",
       "<polygon fill=\"#000000\" points=\"755.8287,-324.6327 745.2776,-323.6708 752.9259,-331.0025 755.8287,-324.6327\" stroke=\"#000000\"/>\n",
       "</g>\n",
       "<!-- [root] root&#45;&gt;[root] provider.aws (close) -->\n",
       "<g class=\"edge\" id=\"edge27\">\n",
       "<title>[root] root-&gt;[root] provider.aws (close)</title>\n",
       "<path d=\"M894.964,-364.1177C917.9653,-353.6361 949.9291,-339.0703 976.1025,-327.1432\" fill=\"none\" stroke=\"#000000\"/>\n",
       "<polygon fill=\"#000000\" points=\"977.8077,-330.2125 985.456,-322.8808 974.9049,-323.8427 977.8077,-330.2125\" stroke=\"#000000\"/>\n",
       "</g>\n",
       "</g>\n",
       "</svg>"
      ],
      "text/plain": [
       "<IPython.core.display.SVG object>"
      ]
     },
     "execution_count": 100,
     "metadata": {},
     "output_type": "execute_result"
    }
   ],
   "source": [
    "from IPython.core.display import SVG\n",
    "SVG(filename='graph.svg')"
   ]
  },
  {
   "cell_type": "markdown",
   "metadata": {},
   "source": [
    "Generating data for LucidChart to generate the visualization of the environment"
   ]
  },
  {
   "cell_type": "code",
   "execution_count": 101,
   "metadata": {},
   "outputs": [
    {
     "name": "stdout",
     "output_type": "stream",
     "text": [
      "Executing ec2 describe-instances\n",
      "Executing ec2 describe-security-groups\n",
      "Executing ec2 describe-subnet\n",
      "Executing ec2 describe-network-acls\n",
      "Executing ec2 describe-vpcs\n",
      "Executing ec2 describe-volumes\n",
      "Executing elb describe-load-balancers\n",
      "Executing elbv2 describe-load-balancers\n",
      "Executing elbv2 describe-target-groups\n",
      "Executing elbv2 describe-target-health\n",
      "Executing autoscaling describe-auto-scaling-groups\n",
      "Executing autoscaling describe-launch-configurations\n",
      "Executing s3api list-buckets\n",
      "Executing rds describe-db-instances\n",
      "Executing cloudfront describe-db-instances\n",
      "Executing sns list-topics\n",
      "Executing sns get-topic-attributes\n",
      "Executing sqs list-queues\n",
      "Executing sqs get-queue-attributes\n",
      "Output to aws.json\n"
     ]
    }
   ],
   "source": [
    "#!/usr/bin/env python2\n",
    "import botocore.session\n",
    "from datetime import datetime, tzinfo, timedelta\n",
    "import json\n",
    "from os import environ\n",
    "\n",
    "#change region to match desired region\n",
    "region = 'eu-west-1'\n",
    "\n",
    "class SimpleUtc(tzinfo):\n",
    "    def tzname(self):\n",
    "        return \"UTC\"\n",
    "    def utcoffset(self, dt):\n",
    "        return timedelta(0)\n",
    "\n",
    "class DateTimeEncoder(json.JSONEncoder):\n",
    "    def default(self, o):\n",
    "        if isinstance(o, datetime):\n",
    "            return o.utcnow().replace(tzinfo=SimpleUtc()).isoformat()\n",
    "\n",
    "        return json.JSONEncoder.default(self, o)\n",
    "\n",
    "def clean_response(resp):\n",
    "    del resp['ResponseMetadata']\n",
    "    return resp\n",
    "\n",
    "output = {}\n",
    "\n",
    "if 'AWS_PROFILE' in environ:\n",
    "    session = botocore.session.Session(profile=environ['AWS_PROFILE'])\n",
    "else:\n",
    "    session = botocore.session.get_session()\n",
    "\n",
    "ec2 = session.create_client('ec2', region_name=region)\n",
    "print(\"Executing ec2 describe-instances\")\n",
    "output['ec2'] = clean_response(ec2.describe_instances())\n",
    "print(\"Executing ec2 describe-security-groups\")\n",
    "output['securitygroup'] = clean_response(ec2.describe_security_groups())\n",
    "print(\"Executing ec2 describe-subnet\")\n",
    "output['subnets'] = clean_response(ec2.describe_subnets())\n",
    "print(\"Executing ec2 describe-network-acls\")\n",
    "output['acls'] = clean_response(ec2.describe_network_acls())\n",
    "print(\"Executing ec2 describe-vpcs\")\n",
    "output['vpc'] = clean_response(ec2.describe_vpcs())\n",
    "print(\"Executing ec2 describe-volumes\")\n",
    "output['ebs'] = clean_response(ec2.describe_volumes())\n",
    "print(\"Executing elb describe-load-balancers\")\n",
    "output['elb'] = clean_response(session.create_client('elb', region_name=region).describe_load_balancers())\n",
    "elbv2 = session.create_client('elbv2', region_name=region)\n",
    "output['elbv2'] = {}\n",
    "output['elbv2']['TargetHealthDescriptions'] = {}\n",
    "print(\"Executing elbv2 describe-load-balancers\")\n",
    "output['elbv2']['LoadBalancers'] = elbv2.describe_load_balancers()['LoadBalancers']\n",
    "print(\"Executing elbv2 describe-target-groups\")\n",
    "output['elbv2']['TargetGroups'] = elbv2.describe_target_groups()['TargetGroups']\n",
    "print(\"Executing elbv2 describe-target-health\")\n",
    "for target_group_arn in [target_group['TargetGroupArn'] for target_group in output['elbv2']['TargetGroups']]:\n",
    "    output['elbv2']['TargetHealthDescriptions'][target_group_arn] = elbv2.describe_target_health(TargetGroupArn=target_group_arn)['TargetHealthDescriptions']\n",
    "print(\"Executing autoscaling describe-auto-scaling-groups\")\n",
    "output['autoscale'] = clean_response(session.create_client('autoscaling', region_name=region).describe_auto_scaling_groups())\n",
    "print(\"Executing autoscaling describe-launch-configurations\")\n",
    "output['launchconfig'] = clean_response(session.create_client('autoscaling', region_name=region).describe_launch_configurations())\n",
    "print(\"Executing s3api list-buckets\")\n",
    "output['s3buckets'] = clean_response(session.create_client('s3', region_name=region).list_buckets())\n",
    "print(\"Executing rds describe-db-instances\")\n",
    "output['rds'] = clean_response(session.create_client('rds', region_name=region).describe_db_instances())\n",
    "print(\"Executing cloudfront describe-db-instances\")\n",
    "output['cloudfront'] = clean_response(session.create_client('cloudfront', region_name=region).list_distributions())\n",
    "\n",
    "print(\"Executing sns list-topics\")\n",
    "sns = session.create_client('sns', region_name=region)\n",
    "topic_resp = sns.list_topics()\n",
    "print(\"Executing sns get-topic-attributes\")\n",
    "output['sns'] = [clean_response(sns.get_topic_attributes(TopicArn = t['TopicArn'])) for t in topic_resp.get('Topics',[])]\n",
    "\n",
    "print(\"Executing sqs list-queues\")\n",
    "sqs = session.create_client('sqs', region_name=region)\n",
    "queue_resp = sqs.list_queues()\n",
    "\n",
    "print(\"Executing sqs get-queue-attributes\")\n",
    "urls = queue_resp.get('QueueUrls',[])\n",
    "output['sqs'] = {'Queues': [clean_response(sqs.get_queue_attributes(AttributeNames=['All'], QueueUrl = url)) for url in urls]}\n",
    "\n",
    "output['importMetaData'] = {'region': region, 'timeStamp': datetime.now()}\n",
    "\n",
    "with open('aws.json', 'w') as f:\n",
    "    json.dump(output, f, cls=DateTimeEncoder)\n",
    "\n",
    "print(\"Output to aws.json\")\n"
   ]
  },
  {
   "cell_type": "code",
   "execution_count": null,
   "metadata": {},
   "outputs": [],
   "source": []
  }
 ],
 "metadata": {
  "kernelspec": {
   "display_name": "conda_python3",
   "language": "python",
   "name": "conda_python3"
  },
  "language_info": {
   "codemirror_mode": {
    "name": "ipython",
    "version": 3
   },
   "file_extension": ".py",
   "mimetype": "text/x-python",
   "name": "python",
   "nbconvert_exporter": "python",
   "pygments_lexer": "ipython3",
   "version": "3.6.4"
  }
 },
 "nbformat": 4,
 "nbformat_minor": 2
}
